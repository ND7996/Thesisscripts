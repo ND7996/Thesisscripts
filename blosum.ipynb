{
 "cells": [
  {
   "cell_type": "code",
   "execution_count": null,
   "metadata": {},
   "outputs": [],
   "source": [
    "from Bio import pairwise2\n",
    "# from Bio.Align import substitution_matrices\n",
    "from Bio.SubsMat import MatrixInfo as matlist\n",
    "from Bio import SeqIO\n",
    "import re\n",
    "\n",
    "\n",
    "\n",
    "# blosum62 = substitution_matrices.load(\"BLOSUM62\")\n",
    "# alignments = pairwise2.align.localds(\"MCAARLAAAAAAQSVYA\", \"MAFIAKSFYDLSAI\", blosum62, -10, -1)\n",
    "# print(pairwise2.format_alignment(*alignments[0]))\n",
    "\n",
    "matrix= matlist.blosum62\n",
    "\n",
    "isoforms=['GPX1',\"GPX2\",'GPX3','GPX4','GPX5','GPX6','GPX7','GPX8']\n",
    "isoforms=['GPX5','GPX7','GPX8']\n",
    "seqs=[]\n",
    "for i in isoforms:\n",
    "\n",
    "    for seq_record in SeqIO.parse(\"glutathione.faa\", \"fasta\"):\n",
    "        item = seq_record.description\n",
    "        HScode = 'OX=9606'\n",
    "        GPXcode = 'GN='+i\n",
    "        matchHScode = re.search(HScode, item)\n",
    "        if matchHScode:\n",
    "            matchGPXcode = re.search(GPXcode, item)\n",
    "            if matchGPXcode:\n",
    "                seqs.append(seq_record)\n",
    "\n",
    "for seq1 in seqs:\n",
    "    for seq2 in seqs:\n",
    "        print(seq1.id, seq2.id)\n",
    "        print(seq1.seq, seq2.seq)\n",
    "        alignments = pairwise2.align.globaldx(seq1.seq, seq2.seq, matrix)\n",
    "        print(pairwise2.format_alignment(*alignments[0]))"
   ]
  }
 ],
 "metadata": {
  "kernelspec": {
   "display_name": "Python 3.8.10 64-bit",
   "language": "python",
   "name": "python3"
  },
  "language_info": {
   "codemirror_mode": {
    "name": "ipython",
    "version": 3
   },
   "file_extension": ".py",
   "mimetype": "text/x-python",
   "name": "python",
   "nbconvert_exporter": "python",
   "pygments_lexer": "ipython3",
   "version": "3.8.10"
  },
  "orig_nbformat": 4,
  "vscode": {
   "interpreter": {
    "hash": "916dbcbb3f70747c44a77c7bcd40155683ae19c65e1c03b4aa3499c5328201f1"
   }
  }
 },
 "nbformat": 4,
 "nbformat_minor": 2
}
